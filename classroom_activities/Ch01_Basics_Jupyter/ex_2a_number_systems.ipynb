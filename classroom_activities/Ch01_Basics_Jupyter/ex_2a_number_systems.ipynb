{
 "cells": [
  {
   "cell_type": "markdown",
   "id": "0f639b9a",
   "metadata": {},
   "source": [
    "# Number Systems\n",
    "\n",
    "ℹ️ This material coincides with material from python slideshow B (slides 10, 39). \n",
    "\n",
    "Sometimes, you may wish to display a number using a different number system.\n",
    "\n",
    "Here's a table of a few examples:\n",
    "\n",
    "|Decimal number (base 10) | Binary number (base 2) | Octal number (base 8) | Hexadecimal number (base 16) |\n",
    "|--|--|--|--|\n",
    "|1|1|1|1|\n",
    "|2|10|2|2|\n",
    "|3|11|3|3|\n",
    "|25|11001|31|19|\n",
    "|120|1111000|170|78|"
   ]
  },
  {
   "cell_type": "markdown",
   "id": "878436ad",
   "metadata": {},
   "source": [
    "You can ask Python to do this for you:"
   ]
  },
  {
   "cell_type": "code",
   "execution_count": null,
   "id": "36fa8076",
   "metadata": {},
   "outputs": [],
   "source": [
    "print(bin(17))\n",
    "print(oct(17))"
   ]
  },
  {
   "cell_type": "markdown",
   "id": "5cb3faf1",
   "metadata": {},
   "source": [
    "you could also type"
   ]
  },
  {
   "cell_type": "code",
   "execution_count": null,
   "id": "ac99a77d",
   "metadata": {},
   "outputs": [],
   "source": [
    "print(f\"An arbitrary number in binary: {bin(17)}\")"
   ]
  },
  {
   "cell_type": "markdown",
   "id": "6c88a6a3",
   "metadata": {},
   "source": [
    "It will display the number as `0b10001`. The `0b` prefix is a way to remind you that this is a binary number.\n",
    "\n",
    "If you prefer to not see that prefix, you could type:"
   ]
  },
  {
   "cell_type": "code",
   "execution_count": null,
   "id": "af81f0de",
   "metadata": {},
   "outputs": [],
   "source": [
    "print(f\"An arbitrary number in binary without a prefix: {17:b}\")"
   ]
  },
  {
   "cell_type": "markdown",
   "id": "473e6c37",
   "metadata": {},
   "source": [
    "How about hexadecimal and octal?"
   ]
  },
  {
   "cell_type": "code",
   "execution_count": null,
   "id": "fb76137d",
   "metadata": {},
   "outputs": [],
   "source": [
    "print(f\"An arbitrary number in octal: {oct(17)}\")\n",
    "print(f\"An arbitrary number in octal without a prefix: {17:o}\")\n",
    "print(f\"An arbitrary number in hexadecimal: {hex(17)}\")\n",
    "print(f\"An arbitrary number in hexadecimal without a prefix: {17:x}\")"
   ]
  },
  {
   "cell_type": "markdown",
   "id": "eadcfdca",
   "metadata": {},
   "source": [
    "Note that functions work alone, but the format specifiers don't, unless you use the `format` function:"
   ]
  },
  {
   "cell_type": "code",
   "execution_count": null,
   "id": "9ac932c8",
   "metadata": {},
   "outputs": [],
   "source": [
    "## This works:\n",
    "exampleVar = bin(6)\n",
    "print(f\"The value is {exampleVar}.\")"
   ]
  },
  {
   "cell_type": "code",
   "execution_count": null,
   "id": "c570501a",
   "metadata": {},
   "outputs": [],
   "source": [
    "## This won't work:\n",
    "exampleVar = {6:b}\n",
    "print(f\"The value is {exampleVar}.\")"
   ]
  },
  {
   "cell_type": "code",
   "execution_count": null,
   "id": "777d41e1",
   "metadata": {},
   "outputs": [],
   "source": [
    "## This works:\n",
    "exampleVar = format(6, \"b\")\n",
    "print(f\"The value is {exampleVar}.\")"
   ]
  },
  {
   "cell_type": "markdown",
   "id": "94efcbcf",
   "metadata": {},
   "source": [
    "Also note that the format specifiers for other number systems work for integers, but don't work for floats:"
   ]
  },
  {
   "cell_type": "code",
   "execution_count": null,
   "id": "a51c1f42",
   "metadata": {},
   "outputs": [],
   "source": [
    "item_number = 27.283\n",
    "print(f\"This will give an error, because item_number is a float: {item_number:b}.\")"
   ]
  }
 ],
 "metadata": {
  "jupytext": {
   "formats": "py:percent,ipynb"
  },
  "kernelspec": {
   "display_name": "Python 3",
   "language": "python",
   "name": "python3"
  },
  "language_info": {
   "codemirror_mode": {
    "name": "ipython",
    "version": 3
   },
   "file_extension": ".py",
   "mimetype": "text/x-python",
   "name": "python",
   "nbconvert_exporter": "python",
   "pygments_lexer": "ipython3",
   "version": "3.8.10"
  }
 },
 "nbformat": 4,
 "nbformat_minor": 5
}
