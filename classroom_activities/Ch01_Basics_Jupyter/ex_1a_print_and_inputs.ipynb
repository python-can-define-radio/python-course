{
 "cells": [
  {
   "cell_type": "markdown",
   "id": "2e9b54a4",
   "metadata": {},
   "source": [
    "# Print and Input Statements\n",
    "\n",
    "Up to this point, we've been doing terminal commands, such as `ls` and `cd`. Now, we're going to start programming in Python.\n",
    "\n",
    "We'll be primarily using Visual Studio Code (VS Code) as our editor for the Python code that we write. Another editor option is called Thonny. However, its primary use for the purposes of this class will be debugging.\n",
    "<details><summary>Here's how to get set-up for VS Code:</summary>\n",
    "\n",
    "- Open VS Code\n",
    "- Open your folder using `File -> Open Folder` (If needed, first create a folder using the Terminal or the file managment program.)\n",
    "- Create a file called `ex_1a_print_and_inputs.py`\n",
    "- Now that you have that file open, type this in that file:\n",
    "     ```python3\n",
    "     print(\"Here we go!\")\n",
    "     ```\n",
    "- Save the file to your local drive by press the key combination {Ctrl}{S} or by using the \"File/Save\" menu command.\n",
    "- Open the VS Code terminal by pressing `View -> Terminal`, or using the keyboard shortcut <code>Ctrl `</code>.\n",
    "- Type `python3 ex_1a_print_and_inputs.py` and press enter.\n",
    "- It should display \"Here we go!\" in the terminal.\n",
    "- Ask if you have any questions.\n",
    "</details>\n",
    "<details><summary>Here's how to get set-up for Thonny:</summary>\n",
    "\n",
    "- Open a terminal window and type `source ~/.profile` and hit enter. (This allows you to launch thonny without (a)logging-out & logging-in again OR (b) rebooting the computer. ...Although, those are valid options.)\n",
    "- In the terminal window type `thonny` and hit enter.\n",
    "- Once Thonny opens, click `View > Files` to see the complete file structure.\n",
    "    - You may also want to select Variables and/or Assistant to open their panes as well.\n",
    "- Navigate to your personal folder in the Files pane on the left.\n",
    "- Create a file called `ex_1a_print_and_inputs.py`\n",
    "- Now that you have that file open, type this in that file:\n",
    "     ```python3\n",
    "     print(\"Here we go!\")\n",
    "     ```\n",
    "- Save the file to your local drive by press the key combination {Ctrl}{S} or by using the \"File>Save\" menu command.\n",
    "- Press F5 or the Play ▶️ at the top left of your screen to run the script.\n",
    "- It should display \"Here we go!\" in the terminal.\n",
    "- Ask if you have any questions.\n",
    "</details>\n",
    "<details><summary>Here's how to get set-up for BlockPy:</summary>\n",
    "     \n",
    "- Go to https://think.cs.vt.edu/blockpy/\n",
    "- In the row that says `Blocks | Split | Text`, click \"Split\".\n",
    "- Either drag blocks or write code.\n",
    "- Press Run.\n",
    "</details>\n",
    "\n",
    "ℹ️ This material coincides with material from python slideshow B (slides 1-11, 16, 24, 54-63, 69). \n",
    "\n",
    "## Exercises\n",
    "\n",
    "### Variables\n",
    "\n",
    "Let's start by creating some **variables**. Variables are used to store data."
   ]
  },
  {
   "cell_type": "code",
   "execution_count": 1,
   "id": "237c4936",
   "metadata": {},
   "outputs": [
    {
     "name": "stdout",
     "output_type": "stream",
     "text": [
      "The total price:\n",
      "15\n",
      "The history saving thread hit an unexpected error (OperationalError('attempt to write a readonly database')).History will not be written to the database.\n"
     ]
    }
   ],
   "source": [
    "## 1\n",
    "number_of_magic_beans = 5\n",
    "price_per_bean = 3\n",
    "tot_price = number_of_magic_beans * price_per_bean\n",
    "print(\"The total price:\")\n",
    "print(tot_price)"
   ]
  },
  {
   "cell_type": "markdown",
   "id": "7b21bee9",
   "metadata": {},
   "source": [
    "In this example, we created three variables:\n",
    "\n",
    "- `number_of_magic_beans`, which contains the integer 5.\n",
    "- `price_per_bean`, which contains the integer 3.\n",
    "- `tot_price`, which contains the integer 15.\n",
    "\n",
    "_Definition:_ **Integer**:  \n",
    "A whole number which may be positive, negative, or zero.\n",
    "\n",
    "- We use the `print` function twice:\n",
    "  - The line `print(\"The total price:\")` displays the text `The total price:` on the screen.\n",
    "  - The line `print(tot_price)` displays the contents of `tot_price`, that is, `15`.\n",
    "\n",
    "Notice the difference: the first `print`, which uses quotation marks, displays the literal text. The second `print`, which does not use quotation marks, treats `tot_price` as a variable.\n",
    "\n",
    "Let's discuss an error message you may come across at this point."
   ]
  },
  {
   "cell_type": "code",
   "execution_count": 2,
   "id": "9ea75aaa",
   "metadata": {},
   "outputs": [
    {
     "ename": "SyntaxError",
     "evalue": "invalid syntax (1010131941.py, line 3)",
     "output_type": "error",
     "traceback": [
      "\u001b[0;36m  Cell \u001b[0;32mIn[2], line 3\u001b[0;36m\u001b[0m\n\u001b[0;31m    number of magic beans = 5\u001b[0m\n\u001b[0m           ^\u001b[0m\n\u001b[0;31mSyntaxError\u001b[0m\u001b[0;31m:\u001b[0m invalid syntax\n"
     ]
    }
   ],
   "source": [
    "## 2\n",
    "## Try this. It will produce an error.\n",
    "number of magic beans = 5"
   ]
  },
  {
   "cell_type": "markdown",
   "id": "cfa3478d",
   "metadata": {},
   "source": [
    "The word \"syntax\" means the arrangement of characters, words, and symbols. For example, \"I food eat\" is invalid English syntax because the verb, \"eat\", comes after the direct object, \"food\".\n",
    "\n",
    "To learn more about variable name rules, see [here](https://github.com/python-can-define-radio/python-course/blob/main/resources/misc/variable_names.md)."
   ]
  },
  {
   "cell_type": "markdown",
   "id": "d21a34cc",
   "metadata": {},
   "source": [
    "What's different? This code attempts to create a variable, `number of magic beans`. However, variable names cannot have spaces, so when you try to run this, Python will produce a SyntaxError because it doesn't know how to read your code:\n",
    "\n",
    "```\n",
    "    number of magic beans = 5\n",
    "           ^^\n",
    "SyntaxError: invalid syntax\n",
    "```"
   ]
  },
  {
   "cell_type": "code",
   "execution_count": null,
   "id": "731a3f66",
   "metadata": {},
   "outputs": [],
   "source": [
    "## 3\n",
    "## Complete this so that it calculates and displays the total number of fruits.\n",
    "apples = 3\n",
    "bananas = 5\n",
    "fruit_total = ___ + ___\n",
    "print(\"Total number of fruits:\")\n",
    "print(___)"
   ]
  },
  {
   "cell_type": "code",
   "execution_count": null,
   "id": "afba80b4",
   "metadata": {},
   "outputs": [],
   "source": [
    "## 4\n",
    "## Complete this code so that it calculates and displays the speed.\n",
    "distance = 50\n",
    "time = 5\n",
    "speed = ___ / ___\n",
    "print(\"The speed is...\")\n",
    "print(___)"
   ]
  },
  {
   "cell_type": "code",
   "execution_count": null,
   "id": "458bfa1a",
   "metadata": {},
   "outputs": [],
   "source": [
    "## 5\n",
    "## Write an example that uses subtraction."
   ]
  },
  {
   "cell_type": "markdown",
   "id": "79947b81",
   "metadata": {},
   "source": [
    "At this point, it's useful to \"comment out the lines\", that is, disable them. Here's how:\n",
    "\n",
    "- In the editor, place your cursor on any part of the line (for example, the \"n\" of `print`).\n",
    "- Press `Ctrl` + `/` in VS Code, or `Ctrl` + `3` in Thonny. You'll see that the line is now preceded by a \"#\", and turns a different color. This indicates that it is \"Commented\" (disabled), that is, it will no longer run.\n",
    "  - Note: If you're using BlockPy, we recommend that you copy the exercises to either Thonny or VS Code.\n",
    "\n",
    "You can manually add the `#` characters if you want, but we recommend using the aforementioned keyboard shortcuts (`Ctrl` + `/` in VS Code, or `Ctrl` + `3` in Thonny).\n",
    "\n",
    "Commenting out the exercises as you go is a great idea because it allows you to keep them for reference, but not see the output every time you press run.\n",
    "\n",
    "Speaking of comments, you'll see that we've numbered our exercises. Number them accordingly on your computer as you work through them, as it makes them easier to find later. Also, we (the instructors) may refer to a specific exercise by number.\n",
    "\n",
    "***ℹ️ To save yourself from unecessary work, do not delete the exercises when you complete them.***  \n",
    "***Comment them out and keep them for reference. These are your notes and can be used on the exam.***  \n",
    "***If you are unsure what the recommended workflow should be, ask an instructor to demonstrate. ℹ️***\n",
    "\n",
    "### Strings\n",
    "\n",
    "We've seen that you can store integers in variables, for example, `apples = 3`.\n",
    "\n",
    "You can also store **strings** in variables.\n",
    "\n",
    "_Definition:_ **String**:  \n",
    "Text. More precisely, a sequence of zero or more characters (letters, numbers, symbols, etc). Examples: `\"Hi\"`, `\"bob is 3 years old\"`, `\":-)\"`"
   ]
  },
  {
   "cell_type": "code",
   "execution_count": null,
   "id": "5aa3b24d",
   "metadata": {},
   "outputs": [],
   "source": [
    "## 7\n",
    "## Try this. What is it doing?\n",
    "shopper = \"bob\"\n",
    "shouted = shopper.upper()\n",
    "print(shouted)"
   ]
  },
  {
   "cell_type": "code",
   "execution_count": null,
   "id": "159cd26b",
   "metadata": {},
   "outputs": [],
   "source": [
    "## 8\n",
    "## Try this. What is it doing?\n",
    "greeted_shop = \"HelLO BOb\"\n",
    "no_cap = greeted_shop.lower()\n",
    "print(no_cap)"
   ]
  },
  {
   "cell_type": "code",
   "execution_count": null,
   "id": "a6197f2f",
   "metadata": {},
   "outputs": [],
   "source": [
    "## 9\n",
    "## Try this. What is it doing?\n",
    "greet = \"HelLOoOooOO\"\n",
    "capi = greet.capitalize()\n",
    "print(capi)"
   ]
  },
  {
   "cell_type": "markdown",
   "id": "3b861c47",
   "metadata": {},
   "source": [
    "Now, try it by filling in the blanks:"
   ]
  },
  {
   "cell_type": "code",
   "execution_count": null,
   "id": "f5670676",
   "metadata": {},
   "outputs": [],
   "source": [
    "## 10\n",
    "## Complete the following:\n",
    "merchant = \"caTHy\"\n",
    "shouted_cust = ___.upper()\n",
    "print(\"The merchant name, all uppercase, is...\")\n",
    "print(shouted_cust)\n",
    "print(\"The merchant name, all lowercase, is...\")\n",
    "print(___.lower())\n",
    "print(\"The merchant name, with proper capitalization, is...\")\n",
    "print(merchant.___())\n",
    "\n",
    "########################\n",
    "##  INSTRUCTOR-CHECK  ##\n",
    "########################\n",
    "## (Questions marked as INSTRUCTOR-CHECK are ones for which you should\n",
    "##  show your answer to an instructor to verify that it fulfills the intent of the question.)"
   ]
  },
  {
   "cell_type": "markdown",
   "id": "7eca936a",
   "metadata": {},
   "source": [
    "You can also check the length of a string:"
   ]
  },
  {
   "cell_type": "code",
   "execution_count": null,
   "id": "046573cd",
   "metadata": {},
   "outputs": [],
   "source": [
    "## 11\n",
    "a_long_word = \"antidisestablishmentarianism\"\n",
    "print(\"The length of the long word is\")\n",
    "print(len(a_long_word))\n",
    "print(\"The length of the word 'hi' is \")\n",
    "print(len('hi'))"
   ]
  },
  {
   "cell_type": "markdown",
   "id": "2ab49d9d",
   "metadata": {},
   "source": [
    "### Using variables inline\n",
    "\n",
    "When we use `print`, the thing that is being printed is called an \"argument\".\n",
    "\n",
    "Examples:\n",
    "\n",
    "- In `print(5)`, the argument is `5`.\n",
    "- In `print(\"hello\")`, the argument is `\"hello\"`.\n",
    "\n",
    "You can also use `print` with multiple arguments:"
   ]
  },
  {
   "cell_type": "code",
   "execution_count": null,
   "id": "b40ef574",
   "metadata": {},
   "outputs": [],
   "source": [
    "## 12\n",
    "grapes = 3\n",
    "print(\"I have\", grapes, \"grapes.\")"
   ]
  },
  {
   "cell_type": "markdown",
   "id": "998d9610",
   "metadata": {},
   "source": [
    "Notice that when `\"grapes\"` is in quotes, it's treated as a string (the literal word \"grapes\"), while `grapes` outside of quotes is interpreted as a variable.\n",
    "\n",
    "You can also use a **formatted string**, a.k.a. **f-string**:"
   ]
  },
  {
   "cell_type": "code",
   "execution_count": null,
   "id": "da0033e3",
   "metadata": {},
   "outputs": [],
   "source": [
    "## 13\n",
    "kiwis = 3\n",
    "print(f\"I have {kiwis} kiwis.\")"
   ]
  },
  {
   "cell_type": "markdown",
   "id": "3fef180b",
   "metadata": {},
   "source": [
    "### Common error messages so far\n",
    "\n",
    "Here are some troubleshooting techniques for errors you might have encountered.\n",
    "\n",
    "Example 1:"
   ]
  },
  {
   "cell_type": "code",
   "execution_count": null,
   "id": "f1c32e96",
   "metadata": {},
   "outputs": [],
   "source": [
    "## 14\n",
    "## Try this. You will get an error message.\n",
    "melons = 3\n",
    "print(melns)"
   ]
  },
  {
   "cell_type": "markdown",
   "id": "4217afb7",
   "metadata": {},
   "source": [
    "This will show the following error message:\n",
    "\n",
    "```\n",
    "Traceback (most recent call last):\n",
    "  ...\n",
    "NameError: name 'appls' is not defined\n",
    "```\n",
    "\n",
    "Python is trying to say the following: \"You asked me to display the contents of a variable called `appls`, but there aren't any variables called `appls`.\n",
    "\n",
    "In that case, the solution is fairly clear -- fix the spelling.\n",
    "\n",
    "Example 2:"
   ]
  },
  {
   "cell_type": "code",
   "execution_count": null,
   "id": "d6b0c4aa",
   "metadata": {},
   "outputs": [],
   "source": [
    "## 15\n",
    "## Try this. You will get an error message.\n",
    "print(hello)"
   ]
  },
  {
   "cell_type": "markdown",
   "id": "cf0b3cc3",
   "metadata": {},
   "source": [
    "This will show the following error message:\n",
    "\n",
    "```\n",
    "Traceback (most recent call last):\n",
    "  ...\n",
    "NameError: name 'hello' is not defined\n",
    "```"
   ]
  },
  {
   "cell_type": "code",
   "execution_count": null,
   "id": "fd8683ce",
   "metadata": {},
   "outputs": [],
   "source": [
    "## 16\n",
    "print(\"Enter the customer name: \")\n",
    "buyer = input()\n",
    "salutation = \"hello\" + buyer + \"!\"\n",
    "print(salutation.upper())"
   ]
  },
  {
   "cell_type": "markdown",
   "id": "e98f1f66",
   "metadata": {},
   "source": [
    "When you run this, you'll see that the `input` function causes the program to pause. The `input()` means \"Wait for the user to type something before moving on.\"\n",
    "\n",
    "Who is \"the user\"? Well, imagine that you write the code, run the program, and then hand the keyboard to your neighbor. In this case, your neighbor is the \"user\". You should act as though the user can't see the Python code -- he/she can only see the output of the program as it is running. \n",
    "\n",
    "Practice:"
   ]
  },
  {
   "cell_type": "code",
   "execution_count": null,
   "id": "16bac793",
   "metadata": {},
   "outputs": [],
   "source": [
    "## 17\n",
    "## Fill in the blanks.\n",
    "print(\"Enter a color: \")\n",
    "color = input()\n",
    "print(\"Enter an animal: \")\n",
    "___ = input()\n",
    "print(\"Enter a plant: \")\n",
    "plant = ___()\n",
    "print(\"The color you chose is\", ___)\n",
    "print(\"The animal you chose is\", animal)\n",
    "print(___, plant)"
   ]
  },
  {
   "cell_type": "code",
   "execution_count": null,
   "id": "56346b26",
   "metadata": {},
   "outputs": [],
   "source": [
    "## 18\n",
    "## Fill in the blanks.\n",
    "print(\"Enter the name of a car.\")\n",
    "___ = input()\n",
    "print(\"The car you named is\", somecar)\n",
    "length_carname = len(___)\n",
    "print(\"That car's name contains\", length_carname, \"characters.\")"
   ]
  },
  {
   "cell_type": "code",
   "execution_count": null,
   "id": "4258d6a0",
   "metadata": {},
   "outputs": [],
   "source": [
    "## 19\n",
    "## Ask the user to enter the name of a planet.\n",
    "## Display \"That planet in all capital letters would be ___\"."
   ]
  },
  {
   "cell_type": "code",
   "execution_count": null,
   "id": "4e6e5d91",
   "metadata": {},
   "outputs": [],
   "source": [
    "## 20\n",
    "## Ask the user to enter the name of a planet.\n",
    "## Display \"That planet's name is ___ characters long\".\n",
    "\n",
    "######################\n",
    "## INSTRUCTOR CHECK ##\n",
    "######################"
   ]
  },
  {
   "cell_type": "code",
   "execution_count": null,
   "id": "5e64c109",
   "metadata": {},
   "outputs": [],
   "source": [
    "## 21\n",
    "## Ask the user for the name of an animal,\n",
    "## and then print \"The animal you named is ____. I think that it would make a nice pet.\"\n",
    "## Example run:\n",
    "##   Type the name of an animal: ✎ dog\n",
    "##   The animal you named is dog. I think that it would make a nice pet.\n",
    "## (The \"✎\" emoji is optional. It indicates where the user\n",
    "##  will enter input.)"
   ]
  },
  {
   "cell_type": "code",
   "execution_count": null,
   "id": "7fe52740",
   "metadata": {},
   "outputs": [],
   "source": [
    "## 22\n",
    "## Ask the user for the name of an animal and of a plant.\n",
    "## Then display \"The ___ eats ___ every day\",\n",
    "## but fill in the blanks with the animal and the plant the user entered."
   ]
  },
  {
   "cell_type": "markdown",
   "id": "de0b431d",
   "metadata": {},
   "source": [
    "You can also combine the `print` and the `input` like so, if you prefer:"
   ]
  },
  {
   "cell_type": "code",
   "execution_count": null,
   "id": "d7d812bd",
   "metadata": {},
   "outputs": [],
   "source": [
    "## 23\n",
    "## Try this.\n",
    "shade = input(\"Enter a color: \")\n",
    "print(\"The color you chose is\", shade)"
   ]
  },
  {
   "cell_type": "markdown",
   "id": "3ae4df2f",
   "metadata": {},
   "source": [
    "Most of our examples use the combined approach, but either is valid.\n",
    "\n",
    "### Data types\n",
    "\n",
    "We've seen two data types so far: strings and integers. We've also seen that the way `+` works depends on the data type. Here's a brief review:"
   ]
  },
  {
   "cell_type": "code",
   "execution_count": null,
   "id": "71c7ddd0",
   "metadata": {},
   "outputs": [],
   "source": [
    "## 24\n",
    "pears = 3\n",
    "print(\"I have\", pears, \"pears.\")\n",
    "onemore = pears + 1\n",
    "print(\"If I had another, I would have\", onemore, \"pears.\")\n",
    "planet = \"Mars\"\n",
    "print(\"Here's a planet name:\", planet)\n",
    "followed = planet + \"1\"\n",
    "print(\"Here's that planet's name, followed by the number 1:\", followed)"
   ]
  },
  {
   "cell_type": "markdown",
   "id": "a0d3052f",
   "metadata": {},
   "source": [
    "What happens if we try to mix types?"
   ]
  },
  {
   "cell_type": "code",
   "execution_count": null,
   "id": "05f78788",
   "metadata": {},
   "outputs": [],
   "source": [
    "## 25\n",
    "## Try this. You will see an error.\n",
    "space = \"Mars\"\n",
    "plums = 3\n",
    "print(space + plums)"
   ]
  },
  {
   "cell_type": "markdown",
   "id": "74904898",
   "metadata": {},
   "source": [
    "Running this will display...\n",
    "\n",
    "```\n",
    "Traceback (most recent call last):\n",
    "  ...\n",
    "TypeError: can only concatenate str (not \"int\") to str\n",
    "```\n",
    "\n",
    "Here's what Python is saying:\n",
    "- There's a `+`, so that means you're trying to add.\n",
    "- The first one was a string, so that means the `+` is going to mean \"concatenation\" (not math adding).\n",
    "- Concatenation only makes sense between strings, and `plums` is not a string. It's the integer 3.\n",
    "\n",
    "Let's look at why that matters when working with inputs."
   ]
  },
  {
   "cell_type": "code",
   "execution_count": null,
   "id": "84288922",
   "metadata": {},
   "outputs": [],
   "source": [
    "## 26 \n",
    "print(\"Welcome to the number adder that doesn't work right!\")\n",
    "a = input(\"What's a number you like? \")\n",
    "b = input(\"Can you give me another number you like? \")\n",
    "c = a + b\n",
    "print(\"I added them. Here's what I got...\")\n",
    "print(c)"
   ]
  },
  {
   "cell_type": "markdown",
   "id": "effaaea3",
   "metadata": {},
   "source": [
    "Try some easy numbers to check it. Does it do the right thing?\n",
    "\n",
    "Now, compare to this one:"
   ]
  },
  {
   "cell_type": "code",
   "execution_count": null,
   "id": "c0a26af8",
   "metadata": {},
   "outputs": [],
   "source": [
    "## 27\n",
    "## Try this.  It will perform proper arithmetic.\n",
    "print(\"Welcome to the number adder that works well!\")\n",
    "a = int(input(\"What's a number you like? \"))\n",
    "b = int(input(\"Can you give me another number you like? \"))\n",
    "c = a + b\n",
    "print(c)"
   ]
  },
  {
   "cell_type": "markdown",
   "id": "3d20ccfa",
   "metadata": {},
   "source": [
    "Notice that the `int` function tells Python to convert the numbers to integers. If you use `input` without `int`, then the variables are strings (not integers), so the `+` symbol does concatenation instead of math addition."
   ]
  },
  {
   "cell_type": "code",
   "execution_count": null,
   "id": "a727e1e9",
   "metadata": {},
   "outputs": [],
   "source": [
    "## 28\n",
    "## Try this. You will get an error. How do you fix it?\n",
    "a = input(\"What is a number you like? \")\n",
    "b = int(input(\"Can you give me another number you like? \"))\n",
    "c = a + b\n",
    "print(c)"
   ]
  },
  {
   "cell_type": "code",
   "execution_count": null,
   "id": "87e60fdd",
   "metadata": {},
   "outputs": [],
   "source": [
    "## 29\n",
    "## Try this. You will get an error. How do you fix it?\n",
    "favnum = input(\"What is your favorite number? \")\n",
    "onemore = favnum + 1\n",
    "print(\"One more would be\", onemore)"
   ]
  },
  {
   "cell_type": "code",
   "execution_count": null,
   "id": "2e297934",
   "metadata": {},
   "outputs": [],
   "source": [
    "## 30\n",
    "## Ask the user for an integer.\n",
    "## Display \"That number plus 2 is ___\".\n",
    "\n",
    "########################\n",
    "##  INSTRUCTOR-CHECK  ##\n",
    "########################"
   ]
  },
  {
   "cell_type": "code",
   "execution_count": null,
   "id": "adaeb4bf",
   "metadata": {},
   "outputs": [],
   "source": [
    "## 32\n",
    "## Ask the user for two integers.\n",
    "## Display \"The first number minus the second number is ___\"."
   ]
  },
  {
   "cell_type": "code",
   "execution_count": null,
   "id": "c1b52b12",
   "metadata": {},
   "outputs": [],
   "source": [
    "## 33\n",
    "## Ask the user for a number.\n",
    "## Display \"Half of that number is ___\"."
   ]
  },
  {
   "cell_type": "code",
   "execution_count": null,
   "id": "339d5ab3",
   "metadata": {},
   "outputs": [],
   "source": [
    "## 34\n",
    "## Try this.\n",
    "print(\"Hello\"*3)"
   ]
  },
  {
   "cell_type": "code",
   "execution_count": null,
   "id": "f55717c8",
   "metadata": {},
   "outputs": [],
   "source": [
    "## 35\n",
    "## Copy and modify the previous example to ask the user for a string.\n",
    "## Display whatever string the user enters three times \n",
    "##  (using *3, as in the previous example)."
   ]
  },
  {
   "cell_type": "code",
   "execution_count": null,
   "id": "7e4c8142",
   "metadata": {},
   "outputs": [],
   "source": [
    "## 38\n",
    "## Does this example do what you expect?\n",
    "## Why does it repeat the number five times rather than doing \"real\" math multiplication?\n",
    "## How do you make it do math?\n",
    "num = input(\"Give me a number. \")\n",
    "print(\"I'm going to try to multiply that number by 5,\")\n",
    "print(\"but something strange is going to happen:\")\n",
    "print(num*5)"
   ]
  },
  {
   "cell_type": "code",
   "execution_count": null,
   "id": "08eff70c",
   "metadata": {},
   "outputs": [],
   "source": [
    "## 39\n",
    "## Ask the user for name and age.\n",
    "## Display \"Guess what, ___, in two years you'll be ___.\"\n",
    "## (The user-provided name goes in the first blank, and the\n",
    "##   age two years from now in the second blank.)"
   ]
  },
  {
   "cell_type": "code",
   "execution_count": null,
   "id": "8a27f35a",
   "metadata": {},
   "outputs": [],
   "source": [
    "## 40\n",
    "## Ask the user for the number of questions on a test,\n",
    "## and ask \"how many did you get right?\"\n",
    "## Then, display \"You got ___% right\". (You'll need to calculate the percent.)\n",
    "\n",
    "########################\n",
    "##  INSTRUCTOR-CHECK  ##\n",
    "########################"
   ]
  },
  {
   "cell_type": "markdown",
   "id": "c029d9e3",
   "metadata": {},
   "source": [
    "### Notice:  Data \"types\"\n",
    "\n",
    "Variables can hold any of several types of data,  \n",
    "e.g., integer, floating-point number, string, list, etc.     \n",
    "*For more information, See [../../resources/data_types.md](https://github.com/python-can-define-radio/python-course/blob/main/resources/data_types.md)*"
   ]
  },
  {
   "cell_type": "code",
   "execution_count": null,
   "id": "3f156f18",
   "metadata": {},
   "outputs": [],
   "source": [
    "## 41 Duplicating/repeating a string\n",
    "## Try this.\n",
    "## In the current example, the data type of `x` is integer, and the type of `y` is string.\n",
    "## The type of 3 is integer.\n",
    "## What happens when you multiply an integer times an integer?\n",
    "## What about a string times an integer?\n",
    "x = 123\n",
    "y = \"123\"\n",
    "print(x*3)\n",
    "print(y*3)"
   ]
  },
  {
   "cell_type": "markdown",
   "id": "669ec12d",
   "metadata": {},
   "source": [
    "The \"float\" type (which means floating point, referring to the decimal point) is able to hold numbers that are not whole numbers.\n",
    "\n",
    "In VSCode it is relatively easy to find out the type of any variable or object just by using the mouseover hint,  \n",
    "if you move your cursor over a variable you should see a smaller popup window which includes the type of that variable.\n",
    "\n",
    "![mouseovervariable.png](https://github.com/python-can-define-radio/python-course/blob/main/resources/misc/mouseovervariable.png?raw=true)  \n",
    "\n",
    "In the above image we see when I moved the mouse over the `name` variable the popup is saying `(variable) name: str` which means that the variable `name` is of the type string.  \n",
    "Try mousing over variables in the next few examples to find out their type."
   ]
  },
  {
   "cell_type": "code",
   "execution_count": null,
   "id": "2665f5eb",
   "metadata": {},
   "outputs": [],
   "source": [
    "## Try this. It will give an error. If it doesn't, please ask an instructor.\n",
    "## 44\n",
    "somenum = int(input(\"Try typing a non-whole number, such as an approximate value for pi. You'll see that it doesn't work: \"))\n",
    "print(f\"You typed {somenum}\")"
   ]
  },
  {
   "cell_type": "code",
   "execution_count": null,
   "id": "7719935a",
   "metadata": {},
   "outputs": [],
   "source": [
    "## 45\n",
    "## Try this. You'll see that it allows for non-whole numbers.\n",
    "somenum = float(input(\"Try typing another non-whole number: \"))\n",
    "print(f\"You typed {somenum}\")"
   ]
  },
  {
   "cell_type": "code",
   "execution_count": null,
   "id": "56b7f441",
   "metadata": {},
   "outputs": [],
   "source": [
    "## 46\n",
    "## Ask the user for two numbers.\n",
    "## Use float() in the places where you would use int().\n",
    "## Display \"The sum of your two numbers is ___\"."
   ]
  },
  {
   "cell_type": "code",
   "execution_count": null,
   "id": "bc0b4cb6",
   "metadata": {},
   "outputs": [],
   "source": [
    "## 47\n",
    "## Ask the user for a number, making sure that you allow for non-whole numbers.\n",
    "## Display \"Twice that number is ___\".\n",
    "## Example run:\n",
    "##    Can you give me a number? 3.4\n",
    "##    Twice that number is 6.8"
   ]
  },
  {
   "cell_type": "markdown",
   "id": "d3dd05b0",
   "metadata": {},
   "source": [
    "You may wonder -- why not always use `float()`? There are at least two reasons:\n",
    "\n",
    "1. There are cases in which you don't want to allow for non-whole values. For example, `numberOfPeople = float(input(\"How many people attended the event? \"))` would not make much sense!\n",
    "2. Math with integers is faster than math with floats. This is significant, for example, when you're processing millions of data points every second (such as when doing real-time signal processing).\n",
    "3. There are certain cases in which you must use an int; for example, `print(\"Hello\"*3.5)` will give an error.\n",
    "\n",
    "For extra practice with floats, copy and modify some of your previous exercises so they use float instead of int.\n",
    "\n",
    "The next exercise shows a common mistake."
   ]
  },
  {
   "cell_type": "code",
   "execution_count": null,
   "id": "46fca5ae",
   "metadata": {},
   "outputs": [],
   "source": [
    "## 49\n",
    "## What is wrong with this code?\n",
    "a = int(input(\"First num?\"))\n",
    "b = int(input(\"Second num? \"))\n",
    "c = {a} + {b}\n",
    "print(f\"The sum is {c}.\")"
   ]
  },
  {
   "cell_type": "markdown",
   "id": "ef62c647",
   "metadata": {},
   "source": [
    "### Optional exercises\n",
    "\n",
    "<summary>Expand here for additional content.</summary>\n",
    "     \n",
    "You may wonder why you must use the int() function. After all, shouldn't the computer know what a number looks like?\n",
    "\n",
    "Here's an example of when you WOULDN'T want the number to be an integer. (In other words, you want the number to be a string.)"
   ]
  },
  {
   "cell_type": "code",
   "execution_count": null,
   "id": "22f4cafe",
   "metadata": {},
   "outputs": [],
   "source": [
    "## 50\n",
    "## This is the right way:\n",
    "beg = \"800\"\n",
    "mid = \"555\"\n",
    "end = input(\"Give me a 4 digit number: \")\n",
    "\n",
    "print(\"Here's an example phone number using the digits you gave me:\")\n",
    "fullPhoneNum = beg + mid + end\n",
    "print(fullPhoneNum)"
   ]
  },
  {
   "cell_type": "code",
   "execution_count": null,
   "id": "3ee4caf9",
   "metadata": {},
   "outputs": [],
   "source": [
    "## 51\n",
    "## The following version runs, but the output is wrong.\n",
    "## What's wrong with the output?\n",
    "beg = 800\n",
    "mid = 555\n",
    "end = int(input(\"Give me a 4 digit number: \"))\n",
    "\n",
    "print(\"Here's an example phone number using the digits you gave me:\")\n",
    "fullPhoneNum = beg + mid + end\n",
    "print(fullPhoneNum)"
   ]
  },
  {
   "cell_type": "code",
   "execution_count": null,
   "id": "65771819",
   "metadata": {},
   "outputs": [],
   "source": [
    "## 52\n",
    "## Another wrong way:\n",
    "## Why does this fail to run? \n",
    "## Changing the input(...) to int(input(...)) is NOT the solution. Why not?\n",
    "beg = 800\n",
    "mid = 555\n",
    "end = input(\"Give me a 4 digit number: \")\n",
    "\n",
    "print(\"Here's an example phone number using the digits you gave me:\")\n",
    "fullPhoneNum = beg + mid + end\n",
    "print(fullPhoneNum)"
   ]
  },
  {
   "cell_type": "markdown",
   "id": "e7c116f7",
   "metadata": {},
   "source": [
    "<details><summary>Notes:</summary>\n",
    "\n",
    "- If you press <kbd>Shift Enter</kbd>, you can cause issues. Ask the instructor to demonstrate (it's difficult to explain textually).\n",
    "- The instructor will demonstrate how to use VS Code's multi-file search.\n",
    "  \n",
    "</details>"
   ]
  },
  {
   "cell_type": "markdown",
   "id": "540623e3",
   "metadata": {},
   "source": [
    "<details><summary>For more information on Prints and Inputs <i>(Click here to expand)</i></summary>\n",
    "\n",
    "> A great supplemental resource is https://learn.arcade.academy  \n",
    "> They start talking about `print` on Chapter 4.  \n",
    "> Some notes before you head over to that site:\n",
    ">  \n",
    "> - It mentions \"Installing the Python programming language\". That's already done in our classroom.\n",
    "> - It mentions \"An integrated development environment (IDE) called PyCharm\". We \n",
    ">      primarily use VSCode (not PyCharm) as our IDE.\n",
    "> - It mentions a \"Version control system\" called git. Git is not required for\n",
    ">      this class, but interested readers are encouraged to explore it.\n",
    "> - Sections 4.2 and 4.3 are PyCharm-specific. You can skip them.\n",
    "\n",
    "</details>"
   ]
  }
 ],
 "metadata": {
  "jupytext": {
   "formats": "ipynb,py:percent"
  },
  "kernelspec": {
   "display_name": "Python 3 (ipykernel)",
   "language": "python",
   "name": "python3"
  },
  "language_info": {
   "codemirror_mode": {
    "name": "ipython",
    "version": 3
   },
   "file_extension": ".py",
   "mimetype": "text/x-python",
   "name": "python",
   "nbconvert_exporter": "python",
   "pygments_lexer": "ipython3",
   "version": "3.8.10"
  }
 },
 "nbformat": 4,
 "nbformat_minor": 5
}
