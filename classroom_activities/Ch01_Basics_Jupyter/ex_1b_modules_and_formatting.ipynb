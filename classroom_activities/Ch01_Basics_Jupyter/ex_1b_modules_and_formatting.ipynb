{
 "cells": [
  {
   "cell_type": "markdown",
   "id": "080af51a",
   "metadata": {},
   "source": [
    "# Modules\n",
    "\n",
    "ℹ️ This material coincides with material from python slideshow D (slides 4-15).\n",
    "\n",
    "In Python, modules are packets of code that enhance the operation of Python.\n",
    "Modules may include multiple Python functions, each giving a specific functionality.\n",
    "E.g., the \"math\" modules includes functions such as \"sqrt()\" and \"cos()\" \n",
    "Using an \"import\" command, modules may be added to a program to make the module's functionality available to the program.\n",
    "\n",
    "When importing modules, there are a few approaches you can use:\n",
    "\n",
    "Import the whole module:"
   ]
  },
  {
   "cell_type": "code",
   "execution_count": 1,
   "id": "05a25ce7",
   "metadata": {
    "execution": {
     "iopub.execute_input": "2025-05-05T18:45:56.962503Z",
     "iopub.status.busy": "2025-05-05T18:45:56.961669Z",
     "iopub.status.idle": "2025-05-05T18:45:56.985428Z",
     "shell.execute_reply": "2025-05-05T18:45:56.983390Z"
    }
   },
   "outputs": [
    {
     "name": "stdout",
     "output_type": "stream",
     "text": [
      "2.23606797749979\n"
     ]
    }
   ],
   "source": [
    "import math\n",
    "print(math.sqrt(5))"
   ]
  },
  {
   "cell_type": "markdown",
   "id": "8f7b33c7",
   "metadata": {},
   "source": [
    "Import one function:"
   ]
  },
  {
   "cell_type": "code",
   "execution_count": 2,
   "id": "82383fe5",
   "metadata": {
    "execution": {
     "iopub.execute_input": "2025-05-05T18:45:56.993002Z",
     "iopub.status.busy": "2025-05-05T18:45:56.992120Z",
     "iopub.status.idle": "2025-05-05T18:45:57.001361Z",
     "shell.execute_reply": "2025-05-05T18:45:56.999704Z"
    }
   },
   "outputs": [
    {
     "name": "stdout",
     "output_type": "stream",
     "text": [
      "2.23606797749979\n"
     ]
    }
   ],
   "source": [
    "from math import sqrt\n",
    "print(sqrt(5))"
   ]
  },
  {
   "cell_type": "markdown",
   "id": "a69dc61d",
   "metadata": {},
   "source": [
    "Import the whole module, and give it another name (\"alias\"):"
   ]
  },
  {
   "cell_type": "code",
   "execution_count": 3,
   "id": "c4bbc301",
   "metadata": {
    "execution": {
     "iopub.execute_input": "2025-05-05T18:45:57.008449Z",
     "iopub.status.busy": "2025-05-05T18:45:57.007579Z",
     "iopub.status.idle": "2025-05-05T18:45:57.017105Z",
     "shell.execute_reply": "2025-05-05T18:45:57.015158Z"
    }
   },
   "outputs": [
    {
     "name": "stdout",
     "output_type": "stream",
     "text": [
      "2.23606797749979\n"
     ]
    }
   ],
   "source": [
    "import math as m\n",
    "print(m.sqrt(5))"
   ]
  },
  {
   "cell_type": "markdown",
   "id": "8696ab03",
   "metadata": {},
   "source": [
    "Import everything from the module:"
   ]
  },
  {
   "cell_type": "code",
   "execution_count": 4,
   "id": "bc243117",
   "metadata": {
    "execution": {
     "iopub.execute_input": "2025-05-05T18:45:57.023959Z",
     "iopub.status.busy": "2025-05-05T18:45:57.023063Z",
     "iopub.status.idle": "2025-05-05T18:45:57.032067Z",
     "shell.execute_reply": "2025-05-05T18:45:57.030285Z"
    }
   },
   "outputs": [
    {
     "name": "stdout",
     "output_type": "stream",
     "text": [
      "2.23606797749979\n"
     ]
    }
   ],
   "source": [
    "from math import *\n",
    "print(sqrt(5))"
   ]
  },
  {
   "cell_type": "markdown",
   "id": "b9197bbe",
   "metadata": {},
   "source": [
    "# Printing with Format Specifiers\n",
    "\n",
    "ℹ️ This material coincides with material from python slideshow B (slides 12-15, 64-68). \n",
    "\n",
    "Sometimes, you want to print with some specific format.\n",
    "For example:\n",
    " - Rounding a number to two decimal places\n",
    " - Padding a number with spaces so that it aligns with other numbers in a list\n",
    " - Displaying a number in another number system\n",
    "\n",
    "### Note:\n",
    "- The \"f\" that preceeds the string, such as, f\"hello\", means ***format***.\n",
    "- The \"f\" inside the curly braces, such as, {item_number:.2f}, means ***fixed-point notation***. That is, the number of decimal places is fixed.\n",
    "\n",
    "Here are some examples of how to specify the formatting when printing."
   ]
  },
  {
   "cell_type": "code",
   "execution_count": 5,
   "id": "7353e006",
   "metadata": {
    "execution": {
     "iopub.execute_input": "2025-05-05T18:45:57.038261Z",
     "iopub.status.busy": "2025-05-05T18:45:57.037446Z",
     "iopub.status.idle": "2025-05-05T18:45:57.048211Z",
     "shell.execute_reply": "2025-05-05T18:45:57.046542Z"
    }
   },
   "outputs": [
    {
     "name": "stdout",
     "output_type": "stream",
     "text": [
      "My item num is 27.286 .\n",
      "My item num is 27.29 rounded to two decimal places.\n"
     ]
    }
   ],
   "source": [
    "## 1\n",
    "## Try this.\n",
    "item_number = 27.286\n",
    "print(\"My item num is\", item_number, \".\")\n",
    "print(\"My item num is\", format(item_number, \".2f\"), \"rounded to two decimal places.\")"
   ]
  },
  {
   "cell_type": "markdown",
   "id": "7ea2c63d",
   "metadata": {},
   "source": [
    "Here's how to do the same using f-strings."
   ]
  },
  {
   "cell_type": "code",
   "execution_count": 6,
   "id": "821fd487",
   "metadata": {
    "execution": {
     "iopub.execute_input": "2025-05-05T18:45:57.054234Z",
     "iopub.status.busy": "2025-05-05T18:45:57.053493Z",
     "iopub.status.idle": "2025-05-05T18:45:57.063461Z",
     "shell.execute_reply": "2025-05-05T18:45:57.061779Z"
    }
   },
   "outputs": [
    {
     "name": "stdout",
     "output_type": "stream",
     "text": [
      "My item num is 27.286.\n",
      "My item num is 27.29, rounded to two decimal places.\n"
     ]
    }
   ],
   "source": [
    "## 2\n",
    "## Try this.\n",
    "item_number = 27.286\n",
    "print(f\"My item num is {item_number}.\")\n",
    "print(f\"My item num is {item_number:.2f}, rounded to two decimal places.\")"
   ]
  },
  {
   "cell_type": "code",
   "execution_count": 7,
   "id": "3b0aeaff",
   "metadata": {
    "execution": {
     "iopub.execute_input": "2025-05-05T18:45:57.069263Z",
     "iopub.status.busy": "2025-05-05T18:45:57.068566Z",
     "iopub.status.idle": "2025-05-05T18:45:57.076450Z",
     "shell.execute_reply": "2025-05-05T18:45:57.074420Z"
    }
   },
   "outputs": [],
   "source": [
    "## 3\n",
    "## Ask the user a number.\n",
    "## Display the number rounded to 3 decimal places.\n"
   ]
  },
  {
   "cell_type": "code",
   "execution_count": 8,
   "id": "07ec5397",
   "metadata": {
    "execution": {
     "iopub.execute_input": "2025-05-05T18:45:57.082275Z",
     "iopub.status.busy": "2025-05-05T18:45:57.081562Z",
     "iopub.status.idle": "2025-05-05T18:45:57.089137Z",
     "shell.execute_reply": "2025-05-05T18:45:57.087042Z"
    }
   },
   "outputs": [],
   "source": [
    "## 4\n",
    "## Ask the user for the current cost-per-gallon of\n",
    "## gasoline. Display the cost per pint,\n",
    "## rounded to the nearest cent.\n",
    "\n",
    "#######################\n",
    "## INSTRUCTOR CHECK\n",
    "#######################"
   ]
  },
  {
   "cell_type": "markdown",
   "id": "38f4ff73",
   "metadata": {},
   "source": [
    "You can also use format specifiers to add leading spaces. Notice that this allows things like prices to be vertically aligned on the decimal place."
   ]
  },
  {
   "cell_type": "code",
   "execution_count": 9,
   "id": "b1cae7f0",
   "metadata": {
    "execution": {
     "iopub.execute_input": "2025-05-05T18:45:57.095721Z",
     "iopub.status.busy": "2025-05-05T18:45:57.094979Z",
     "iopub.status.idle": "2025-05-05T18:45:57.105211Z",
     "shell.execute_reply": "2025-05-05T18:45:57.103390Z"
    }
   },
   "outputs": [
    {
     "name": "stdout",
     "output_type": "stream",
     "text": [
      "Prices:\n",
      "    1.78\n",
      " 1062.02\n",
      "  162.17\n"
     ]
    }
   ],
   "source": [
    "## 5\n",
    "apple_price = 1.78\n",
    "something_expensive = 1062.02\n",
    "guitar_price = 162.17\n",
    "print(\"Prices:\")\n",
    "print(f\"{apple_price:8}\")\n",
    "print(f\"{something_expensive:8}\")\n",
    "print(f\"{guitar_price:8}\")"
   ]
  },
  {
   "cell_type": "markdown",
   "id": "0c92afe7",
   "metadata": {},
   "source": [
    "<details><summary>For more information:</summary>\n",
    " \n",
    "- This website gives some great practical examples. Recommended to start here.  \n",
    "  https://www.linisnil.com/articles/practical-guide-to-python-string-format-specifiers/  \n",
    "- Another good site.  \n",
    "  https://www.pythonmorsels.com/string-formatting/  \n",
    "- This website gives detailed documentation; somewhat more difficult to read.  \n",
    "  https://docs.python.org/3/library/string.html#format-specification-mini-language\n",
    "  \n",
    "</details>"
   ]
  },
  {
   "cell_type": "markdown",
   "id": "329470ba",
   "metadata": {},
   "source": []
  }
 ],
 "metadata": {
  "jupytext": {
   "formats": "py,ipynb"
  },
  "kernelspec": {
   "display_name": "Python 3",
   "language": "python",
   "name": "python3"
  },
  "language_info": {
   "codemirror_mode": {
    "name": "ipython",
    "version": 3
   },
   "file_extension": ".py",
   "mimetype": "text/x-python",
   "name": "python",
   "nbconvert_exporter": "python",
   "pygments_lexer": "ipython3",
   "version": "3.8.10"
  }
 },
 "nbformat": 4,
 "nbformat_minor": 5
}
